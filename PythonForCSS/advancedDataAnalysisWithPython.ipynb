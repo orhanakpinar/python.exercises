{
 "cells": [
  {
   "cell_type": "code",
   "execution_count": 4,
   "id": "a1d589d8",
   "metadata": {
    "id": "a1d589d8"
   },
   "outputs": [],
   "source": [
    "# Initial note for Advanced DS w/ Python course at Koç University Computational Social Sciences department.\n",
    "# Tutor: M. Fuat Kına\n",
    "# Course content adress https://github.com/fuatkina/Advanced-Data-Analysis-with-Python\n",
    "# First parts include setting up the environment. Which I will do it by starting this notebook on GitHub.\n",
    "# Let's import some libraries\n",
    "#Finally "
   ]
  },
  {
   "cell_type": "code",
   "execution_count": 9,
   "id": "510be9e3",
   "metadata": {
    "id": "510be9e3"
   },
   "outputs": [],
   "source": [
    "import pandas as pd\n",
    "import matplotlib as plt\n",
    "import seaborn as sns\n",
    "import numpy as np\n",
    "import math\n",
    "import statistics\n",
    "from bs4 import BeautifulSoup\n",
    "import nltk"
   ]
  },
  {
   "cell_type": "code",
   "execution_count": 1,
   "id": "fa1a4219",
   "metadata": {
    "id": "fa1a4219",
    "scrolled": false
   },
   "outputs": [
    {
     "name": "stdout",
     "output_type": "stream",
     "text": [
      "new collab test entry\n"
     ]
    }
   ],
   "source": [
    "print(\"new collab test entry\")"
   ]
  },
  {
   "cell_type": "code",
   "execution_count": 5,
   "id": "7b0a8c88",
   "metadata": {
    "id": "7b0a8c88"
   },
   "outputs": [],
   "source": [
    "#jupyter notebook test, package name checked\n"
   ]
  },
  {
   "cell_type": "code",
   "execution_count": 5,
   "id": "61961158",
   "metadata": {
    "id": "61961158"
   },
   "outputs": [
    {
     "name": "stdout",
     "output_type": "stream",
     "text": [
      "1\n"
     ]
    }
   ],
   "source": [
    "x = 1\n",
    "print(x)"
   ]
  },
  {
   "cell_type": "code",
   "execution_count": 6,
   "id": "8276c8ce",
   "metadata": {
    "id": "8276c8ce"
   },
   "outputs": [
    {
     "data": {
      "text/plain": [
       "4.47213595499958"
      ]
     },
     "execution_count": 6,
     "metadata": {},
     "output_type": "execute_result"
    }
   ],
   "source": [
    "math.sqrt(x*20)"
   ]
  },
  {
   "cell_type": "markdown",
   "id": "5e7bcfd0",
   "metadata": {},
   "source": [
    "## First lesson- \n",
    "### Introduction"
   ]
  },
  {
   "cell_type": "markdown",
   "id": "41396cdc",
   "metadata": {},
   "source": [
    "- Syntax\n",
    "- Basic programming concepts\n",
    "- Understanding DS problems\n",
    "- Getting familiar with ML concepts - differences and similarities with classical statistics"
   ]
  },
  {
   "cell_type": "markdown",
   "id": "e153e7d3",
   "metadata": {},
   "source": [
    "- Python is easily readable\n",
    "- Many online sources\n",
    "- Widely used\n",
    "- Open source\n",
    "- Alternative for statistical and geospatial tools"
   ]
  },
  {
   "cell_type": "markdown",
   "id": "6d997d85",
   "metadata": {},
   "source": [
    "- Python and Programming Basics (types, lists, operations, if, functions loops)\n",
    "- Data Collection (web scrapping, APIs)\n",
    "- Working with data, cration and manipulation (numpy, matplotlib, pandas)\n",
    "- Advanced data analysis techniques\n",
    "    - Conventional models\n",
    "    - Causal inference\n",
    "    - Spatial analysis (spatial autocorrelation)\n",
    "    - Bayesian statistics\n",
    "    - Machine learning\n",
    "    - Multivariate analysis"
   ]
  },
  {
   "cell_type": "markdown",
   "id": "781ebfa0",
   "metadata": {},
   "source": [
    "Causal Inference depends on the narrative, more than p-values. \n",
    "\n",
    "Check syllabus for lecture plan, grading and assignments\n",
    "\n",
    "We are going to discuss a lot on scientific side of inference.\n",
    "\n",
    "Which is the difference from commercial data analysis.\n",
    "\n",
    "More focus on causality and proofing. \n",
    "\n"
   ]
  },
  {
   "cell_type": "code",
   "execution_count": 14,
   "id": "0053c368",
   "metadata": {},
   "outputs": [
    {
     "name": "stdout",
     "output_type": "stream",
     "text": [
      "3.58351893845611\n",
      "-1.0\n",
      "598.4444444444445\n"
     ]
    }
   ],
   "source": [
    "# some warm-ups\n",
    "\n",
    "print(math.log(36))\n",
    "\n",
    "print(math.cos(math.pi))\n",
    "\n",
    "print(statistics.mean([22,45,61,1,2,4872, 128,241,14]))"
   ]
  }
 ],
 "metadata": {
  "colab": {
   "provenance": []
  },
  "kernelspec": {
   "display_name": "Python 3 (ipykernel)",
   "language": "python",
   "name": "python3"
  },
  "language_info": {
   "codemirror_mode": {
    "name": "ipython",
    "version": 3
   },
   "file_extension": ".py",
   "mimetype": "text/x-python",
   "name": "python",
   "nbconvert_exporter": "python",
   "pygments_lexer": "ipython3",
   "version": "3.11.5"
  }
 },
 "nbformat": 4,
 "nbformat_minor": 5
}
