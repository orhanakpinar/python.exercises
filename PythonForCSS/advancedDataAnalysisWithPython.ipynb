{
  "cells": [
    {
      "cell_type": "code",
      "execution_count": null,
      "id": "a1d589d8",
      "metadata": {
        "id": "a1d589d8"
      },
      "outputs": [],
      "source": [
        "# Initial note for Advanced DS w/ Python course at Koç University Computational Social Sciences department.\n",
        "# Tutor: M. Fuat Kına\n",
        "# Course content adress https://github.com/fuatkina/Advanced-Data-Analysis-with-Python\n",
        "# First parts include setting up the environment. Which I will do it by starting this notebook on GitHub.\n",
        "# Let's import some libraries"
      ]
    },
    {
      "cell_type": "code",
      "execution_count": 2,
      "id": "510be9e3",
      "metadata": {
        "id": "510be9e3"
      },
      "outputs": [],
      "source": [
        "import pandas as pd\n",
        "import matplotlib as plt\n",
        "import seaborn as sns\n",
        "import numpy as np\n",
        "import math"
      ]
    },
    {
      "cell_type": "code",
      "execution_count": 1,
      "id": "fa1a4219",
      "metadata": {
        "id": "fa1a4219",
        "scrolled": false
      },
      "outputs": [
        {
          "name": "stdout",
          "output_type": "stream",
          "text": [
            "new collab test entry\n"
          ]
        }
      ],
      "source": [
        "print(\"new collab test entry\")"
      ]
    },
    {
      "cell_type": "code",
      "execution_count": null,
      "id": "7b0a8c88",
      "metadata": {
        "id": "7b0a8c88"
      },
      "outputs": [],
      "source": []
    },
    {
      "cell_type": "code",
      "execution_count": null,
      "id": "e8ee0f51",
      "metadata": {
        "id": "e8ee0f51"
      },
      "outputs": [],
      "source": []
    },
    {
      "cell_type": "code",
      "execution_count": 5,
      "id": "61961158",
      "metadata": {
        "id": "61961158"
      },
      "outputs": [
        {
          "name": "stdout",
          "output_type": "stream",
          "text": [
            "1\n"
          ]
        }
      ],
      "source": [
        "x = 1\n",
        "print(x)"
      ]
    },
    {
      "cell_type": "code",
      "execution_count": 6,
      "id": "8276c8ce",
      "metadata": {
        "id": "8276c8ce"
      },
      "outputs": [
        {
          "data": {
            "text/plain": [
              "4.47213595499958"
            ]
          },
          "execution_count": 6,
          "metadata": {},
          "output_type": "execute_result"
        }
      ],
      "source": [
        "math.sqrt(x*20)"
      ]
    }
  ],
  "metadata": {
    "colab": {
      "provenance": []
    },
    "kernelspec": {
      "display_name": "Python 3 (ipykernel)",
      "language": "python",
      "name": "python3"
    },
    "language_info": {
      "codemirror_mode": {
        "name": "ipython",
        "version": 3
      },
      "file_extension": ".py",
      "mimetype": "text/x-python",
      "name": "python",
      "nbconvert_exporter": "python",
      "pygments_lexer": "ipython3",
      "version": "3.9.18"
    }
  },
  "nbformat": 4,
  "nbformat_minor": 5
}
