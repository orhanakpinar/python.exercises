{
 "cells": [
  {
   "cell_type": "markdown",
   "metadata": {},
   "source": [
    "Student: Orhan Akpınar\n",
    "\n",
    "Course: Advanced Data Analysis for Social Sciences (Python)\n",
    "\n",
    "Assignment 2 - Web Scraping\n",
    "\n",
    "I scraped financial terms dictionary found in Türkiye Cumhuriyeti Merkez Bankası web page."
   ]
  },
  {
   "cell_type": "code",
   "execution_count": 5,
   "metadata": {},
   "outputs": [
    {
     "name": "stdout",
     "output_type": "stream",
     "text": [
      "    Letter                                               Word  \\\n",
      "0        A  AB Tanımlı Genel Yönetim Borç Stoku (EU-Define...   \n",
      "1        A                 Açığa Satış İşlemi (Short Selling)   \n",
      "2        A                          Açık Mektup (Open Letter)   \n",
      "3        A  Açık Piyasa İşlemleri - APİ (Open Market Opera...   \n",
      "4        A                     Açık Pozisyon (Short Position)   \n",
      "..     ...                                                ...   \n",
      "310      Y  Yurt Dışı Üretici Fiyat Endeksi - YD-ÜFE (Non-...   \n",
      "311      Y                   Yurt İçi Talep (Domestic Demand)   \n",
      "312      Y  Yurt İçi Üretici Fiyat Endeksi (Yİ-ÜFE) (Domes...   \n",
      "313      Z              Zamanaşımı Süresi (Redemption Period)   \n",
      "314      Z  Zorunlu Karşılık Oranı (Reserve Requirement Ra...   \n",
      "\n",
      "                                               Context  \n",
      "0    Belirli bir tarih itibarıyla, Avrupa Ulusal ve...  \n",
      "1    Yatırımcının portföyünde bulunmayan bir varlığ...  \n",
      "2    TCMB Kanunu’nun 42. maddesi uyarınca enflasyon...  \n",
      "3    TCMB'nin para politikasının hedefleri çerçeves...  \n",
      "4    Döviz, altın, menkul kıymet gibi bir finansal ...  \n",
      "..                                                 ...  \n",
      "310  Yurt dışına ihraç edilmek üzere üretilen tüket...  \n",
      "311  Nihai yurt içi talep ve stok değişiminin topla...  \n",
      "312  Yurt içinde ticarete konu olmak üzere üretilen...  \n",
      "313  Banknotun tedavülden kaldırıldığı tarihten baş...  \n",
      "314  Banka ve diğer finansal kuruluşların bilançola...  \n",
      "\n",
      "[315 rows x 3 columns]\n"
     ]
    }
   ],
   "source": [
    "import pandas as pd\n",
    "from scrapy import Selector\n",
    "import requests\n",
    "\n",
    "url = 'https://www.tcmb.gov.tr/wps/wcm/connect/TR/TCMB+TR/Main+Menu/Banka+Hakkinda/Egitim-Akademik/Terimler+Sozlugu/'\n",
    "html = requests.get(url).content\n",
    "sel = Selector(text=html)\n",
    "\n",
    "data_mb = {'Letter': [], 'Word': [], 'Context': []}\n",
    "\n",
    "\n",
    "#Scraped elements had \"\\n\" text, so I eliminated that part in the code.\n",
    "\n",
    "\n",
    "# Iterate over letters \n",
    "for letter_index in range(2, 24): #Letter range checked by hand for A and Z\n",
    "    letter_xpath = f'//*[@id=\"tcmbMainContent\"]/div[{letter_index}]/a'\n",
    "    letter_element = sel.xpath(letter_xpath).get()\n",
    "    letter_text = sel.xpath(letter_xpath + '/text()').get().replace('\\n', '')\n",
    "\n",
    "\n",
    "    # Iterate over words under the current letter\n",
    "    words_xpath = f'//*[@id=\"tcmbMainContent\"]/div[{letter_index}]/div/div/a'\n",
    "    words_elements = sel.xpath(words_xpath)\n",
    "    \n",
    "    #Use enumerate for different ranges under letters\n",
    "    for word_index, word_element in enumerate(words_elements, start=1):\n",
    "        word_xpath = f'//*[@id=\"tcmbMainContent\"]/div[{letter_index}]/div/div/div[{word_index}]/a'\n",
    "        word_text = word_element.xpath('./text()').get().replace('\\n', '')\n",
    "        \n",
    "        # Extract all text under p elements for the current word\n",
    "        text_xpath = f'//*[@id=\"tcmbMainContent\"]/div[{letter_index}]/div/div[{word_index}]/div/p/text()'\n",
    "        text_content = ' '.join(sel.xpath(text_xpath).getall()).replace('\\n', '')\n",
    "        #print(text_content)\n",
    "\n",
    "        # Add data to the dictionary\n",
    "        data_mb['Letter'].append(letter_text)\n",
    "        data_mb['Word'].append(word_text)\n",
    "        data_mb['Context'].append(text_content)\n",
    "\n",
    "# Create a Pandas DataFrame\n",
    "df_mb = pd.DataFrame(data_mb)\n",
    "\n",
    "# Show DataFrame\n",
    "print(df_mb)"
   ]
  },
  {
   "cell_type": "code",
   "execution_count": 6,
   "metadata": {},
   "outputs": [],
   "source": [
    "#Save DataFrame to csv\n",
    "df_mb.to_csv(\"Merkez_Bankası_Sözlük.csv\")\n",
    "\n"
   ]
  }
 ],
 "metadata": {
  "kernelspec": {
   "display_name": "base",
   "language": "python",
   "name": "python3"
  },
  "language_info": {
   "codemirror_mode": {
    "name": "ipython",
    "version": 3
   },
   "file_extension": ".py",
   "mimetype": "text/x-python",
   "name": "python",
   "nbconvert_exporter": "python",
   "pygments_lexer": "ipython3",
   "version": "3.11.5"
  }
 },
 "nbformat": 4,
 "nbformat_minor": 2
}
